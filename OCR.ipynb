{
 "cells": [
  {
   "cell_type": "markdown",
   "id": "15ac157e",
   "metadata": {},
   "source": [
    "### Optical character recognition(OCR):"
   ]
  },
  {
   "cell_type": "markdown",
   "id": "c5c2605c",
   "metadata": {},
   "source": [
    "- OCR is used to extract text from any printed document\n",
    "\n",
    "- any image\n",
    "\n",
    "- any scanned document\n",
    "\n",
    "- OCR can implemented by many methods, in that one of method is tessract"
   ]
  },
  {
   "cell_type": "markdown",
   "id": "21fa9962",
   "metadata": {},
   "source": [
    "### Implementation of tessract\n",
    "\n",
    "1. Install tesseract using windows installer available at: \n",
    "    \n",
    "        https://github.com/UB-Mannheim/tesseract/wiki\n",
    "                      \n",
    "2. While install notedown the path: It mostly :\n",
    "        \n",
    "        C:\\Program Files\\Tesseract-OCR\n",
    "\n",
    "\n",
    "3. pip install pytesseract\n",
    "\n",
    "\n",
    "4. Set the tesseract path in the script before calling image_to_string:\n",
    "\n",
    "         pytesseract.pytesseract.tesseract_cmd = r'C:\\Program Files\\Tesseract-OCR\\tesseract.exe'"
   ]
  },
  {
   "cell_type": "code",
   "execution_count": 1,
   "id": "0046dca8",
   "metadata": {},
   "outputs": [],
   "source": [
    "import cv2\n",
    "import pytesseract"
   ]
  },
  {
   "cell_type": "code",
   "execution_count": 2,
   "id": "7eef077b",
   "metadata": {},
   "outputs": [],
   "source": [
    "pytesseract.pytesseract.tesseract_cmd = r'C:\\Program Files\\Tesseract-OCR\\tesseract.exe'"
   ]
  },
  {
   "cell_type": "code",
   "execution_count": 3,
   "id": "33fe2629",
   "metadata": {},
   "outputs": [
    {
     "data": {
      "text/plain": [
       "['ALTONotSupported',\n",
       " 'Output',\n",
       " 'TSVNotSupported',\n",
       " 'TesseractError',\n",
       " 'TesseractNotFoundError',\n",
       " '__builtins__',\n",
       " '__cached__',\n",
       " '__doc__',\n",
       " '__file__',\n",
       " '__loader__',\n",
       " '__name__',\n",
       " '__package__',\n",
       " '__path__',\n",
       " '__spec__',\n",
       " '__version__',\n",
       " 'get_languages',\n",
       " 'get_tesseract_version',\n",
       " 'image_to_alto_xml',\n",
       " 'image_to_boxes',\n",
       " 'image_to_data',\n",
       " 'image_to_osd',\n",
       " 'image_to_pdf_or_hocr',\n",
       " 'image_to_string',\n",
       " 'pytesseract',\n",
       " 'run_and_get_output']"
      ]
     },
     "execution_count": 3,
     "metadata": {},
     "output_type": "execute_result"
    }
   ],
   "source": [
    "dir(pytesseract)"
   ]
  },
  {
   "cell_type": "markdown",
   "id": "35b169f1",
   "metadata": {},
   "source": [
    "### Case-1"
   ]
  },
  {
   "cell_type": "code",
   "execution_count": null,
   "id": "f5708a24",
   "metadata": {},
   "outputs": [],
   "source": [
    "# Pillow \n",
    "from PIL import Image\n",
    "img_location = 'C:\\\\Users\\\\omkar\\\\OneDrive\\\\Documents\\\\Data science\\\\Naresh IT\\\\Data science\\\\Batch-1_May3\\\\NLP\\\\Python codes\\\\images\\\\invoice-sample.jpg'\n",
    "image = Image.open(img_location)\n",
    "image"
   ]
  },
  {
   "cell_type": "code",
   "execution_count": null,
   "id": "af68275d",
   "metadata": {},
   "outputs": [],
   "source": [
    "# CV2\n",
    "img = cv2.imread('C:\\\\Users\\\\omkar\\\\OneDrive\\\\Documents\\\\Data science\\\\Naresh IT\\\\Data science\\\\Batch-1_May3\\\\NLP\\\\Python codes\\\\images\\\\invoice-sample.jpg')\n",
    "cv2.imshow('img', img)\n",
    "cv2.waitKey(0)"
   ]
  },
  {
   "cell_type": "code",
   "execution_count": null,
   "id": "0108b514",
   "metadata": {},
   "outputs": [],
   "source": [
    "img.shape\n",
    "\n",
    "# 1150 : height\n",
    "# 835: width\n",
    "# 3: RGB"
   ]
  },
  {
   "cell_type": "code",
   "execution_count": null,
   "id": "a293259c",
   "metadata": {},
   "outputs": [],
   "source": [
    "#print(pytesseract.image_to_boxes(image) )\n",
    "#print(pytesseract.image_to_data(image) )\n",
    "#print(pytesseract.image_to_string(image) )"
   ]
  },
  {
   "cell_type": "code",
   "execution_count": null,
   "id": "1b4df3d0",
   "metadata": {},
   "outputs": [],
   "source": [
    "print(pytesseract.image_to_boxes(image) )"
   ]
  },
  {
   "cell_type": "code",
   "execution_count": null,
   "id": "a4f99514",
   "metadata": {},
   "outputs": [],
   "source": [
    "print(pytesseract.image_to_data(image))"
   ]
  },
  {
   "cell_type": "code",
   "execution_count": null,
   "id": "8ef01f50",
   "metadata": {},
   "outputs": [],
   "source": [
    "# save into text file\n",
    "info='file.txt'\n",
    "with open(info,'w') as file:\n",
    "    file.write(pytesseract.image_to_data(image))\n"
   ]
  },
  {
   "cell_type": "code",
   "execution_count": null,
   "id": "617633b3",
   "metadata": {},
   "outputs": [],
   "source": [
    "print(pytesseract.image_to_string(image))"
   ]
  },
  {
   "cell_type": "code",
   "execution_count": null,
   "id": "218c74bc",
   "metadata": {},
   "outputs": [],
   "source": [
    "# save into text file\n",
    "info='ocr_invoive_output.txt'\n",
    "with open(info,'w') as file:\n",
    "    file.write(pytesseract.image_to_string(image))"
   ]
  },
  {
   "cell_type": "code",
   "execution_count": null,
   "id": "0d9f80c1",
   "metadata": {},
   "outputs": [],
   "source": [
    "boxes = pytesseract.image_to_boxes(img)\n",
    "boxes.splitlines()"
   ]
  },
  {
   "cell_type": "code",
   "execution_count": null,
   "id": "fbc8f2f4",
   "metadata": {},
   "outputs": [],
   "source": [
    "h, w, c = img.shape\n",
    "h,w,c\n",
    "# height=1150\n",
    "#w=835\n",
    "\n",
    "59 \n",
    "1150-951 \n",
    "67 \n",
    "1150-960\n",
    "\n",
    "img=cv2.imread(img_location,\n",
    "               cv2.COLOR_BGR2GRAY)\n",
    "\n",
    "start_window=(59,67)\n",
    "end_window= (199,190)\n",
    "color=(0,0,255)\n",
    "thikness=5\n",
    "rec_image=cv2.rectangle(img,\n",
    "              start_window,\n",
    "              end_window,\n",
    "              color,\n",
    "              thikness)\n",
    "\n",
    "cv2.imshow(\"image\",rec_image)\n",
    "\n",
    "cv2.waitKey(0)         \n",
    "cv2.destroyAllWindows()\n",
    "\n",
    "# This is the problem \n",
    "# we need to provide correct values of start window and end window"
   ]
  },
  {
   "cell_type": "code",
   "execution_count": null,
   "id": "1d5e24ed",
   "metadata": {},
   "outputs": [],
   "source": [
    "img = cv2.imread('C:\\\\Users\\\\omkar\\\\OneDrive\\\\Documents\\\\Data science\\\\Naresh IT\\\\Data science\\\\Batch-1_May3\\\\NLP\\\\Python codes\\\\images\\\\invoice-sample.jpg')\n",
    "\n",
    "h, w, c = img.shape\n",
    "boxes = pytesseract.image_to_boxes(img) \n",
    "for b in boxes.splitlines():\n",
    "    b = b.split(' ')\n",
    "    #I 128 983 163 1063 \n",
    "    img = cv2.rectangle(img, \n",
    "                        (int(b[1]), h - int(b[2])), (int(b[3]), h - int(b[4])), \n",
    "                        (0, 255, 0), \n",
    "                        1)\n",
    "\n",
    "cv2.imshow('img', img)\n",
    "cv2.waitKey(0)"
   ]
  },
  {
   "cell_type": "code",
   "execution_count": null,
   "id": "e150d32d",
   "metadata": {},
   "outputs": [],
   "source": [
    "#b[1]=128\n",
    "#b[2]=1150-983\n",
    "#b[3]=163\n",
    "#b[4]=1150-1063\n",
    "\n",
    "#128,167,163,87\n",
    "#128\t83\t358\t86"
   ]
  },
  {
   "cell_type": "markdown",
   "id": "cf763984",
   "metadata": {},
   "source": [
    "#### Case-2"
   ]
  },
  {
   "cell_type": "code",
   "execution_count": null,
   "id": "9d95057e",
   "metadata": {},
   "outputs": [],
   "source": [
    "import cv2\n",
    "import pytesseract\n",
    "from pytesseract import Output\n",
    "\n",
    "img = cv2.imread('C:\\\\Users\\\\omkar\\\\OneDrive\\\\Documents\\\\Data science\\\\Naresh IT\\\\Data science\\\\Batch-1_May3\\\\NLP\\\\Python codes\\\\images\\\\invoice-sample.jpg')\n",
    "\n",
    "\n",
    "d = pytesseract.image_to_data(img, output_type=Output.DICT)\n",
    "print(d.keys())"
   ]
  },
  {
   "cell_type": "code",
   "execution_count": null,
   "id": "7581ff1b",
   "metadata": {},
   "outputs": [],
   "source": [
    "d['text']"
   ]
  },
  {
   "cell_type": "code",
   "execution_count": null,
   "id": "ea6e6a92",
   "metadata": {},
   "outputs": [],
   "source": [
    "n_boxes = len(d['text'])\n",
    "n_boxes"
   ]
  },
  {
   "cell_type": "code",
   "execution_count": null,
   "id": "3942c732",
   "metadata": {},
   "outputs": [],
   "source": [
    "n_boxes = len(d['text'])\n",
    "for i in range(n_boxes):\n",
    "    if int(d['conf'][i]) >30:\n",
    "        # x=128    y=83    w=358    h=86\n",
    "        # (128,83) (486,169)\n",
    "        (x, y, w, h) = (d['left'][i], d['top'][i], d['width'][i], d['height'][i])\n",
    "        img = cv2.rectangle(img, (x, y), (x + w, y + h), (0, 255, 0), 2)\n",
    "\n",
    "cv2.imshow('img', img)\n",
    "cv2.waitKey(0)"
   ]
  },
  {
   "cell_type": "markdown",
   "id": "578a2404",
   "metadata": {},
   "source": [
    "### Case-3:"
   ]
  },
  {
   "cell_type": "code",
   "execution_count": 4,
   "id": "fee9cb00",
   "metadata": {},
   "outputs": [],
   "source": [
    "img=\"C:\\\\Users\\\\omkar\\\\OneDrive\\\\Documents\\\\Data science\\\\Naresh IT\\\\Data science\\\\Batch-1_May3\\\\NLP\\\\Python codes\\\\images\\\\test-image-for-recognition.jpg\""
   ]
  },
  {
   "cell_type": "code",
   "execution_count": 5,
   "id": "36b90f92",
   "metadata": {},
   "outputs": [],
   "source": [
    "import pytesseract\n",
    "import cv2\n",
    "import matplotlib.pyplot as plt\n",
    "from PIL import Image"
   ]
  },
  {
   "cell_type": "code",
   "execution_count": 6,
   "id": "88d1c951",
   "metadata": {},
   "outputs": [],
   "source": [
    "# read the image using OpenCV\n",
    "#image = cv2.imread(img)\n",
    "# or you can use Pillow\n",
    "image = Image.open(img)"
   ]
  },
  {
   "cell_type": "code",
   "execution_count": 7,
   "id": "5d0b3a08",
   "metadata": {},
   "outputs": [
    {
     "data": {
      "image/png": "[encoded data removed]",
      "text/plain": [
       "<PIL.WebPImagePlugin.WebPImageFile image mode=RGB size=640x480>"
      ]
     },
     "execution_count": 7,
     "metadata": {},
     "output_type": "execute_result"
    }
   ],
   "source": [
    "image"
   ]
  },
  {
   "cell_type": "code",
   "execution_count": 8,
   "id": "0234e58f",
   "metadata": {},
   "outputs": [
    {
     "name": "stdout",
     "output_type": "stream",
     "text": [
      "This is a lot of 12 point text to test the\n",
      "ocr code and see if it works on all types\n",
      "of file format.\n",
      "\n",
      "The quick brown dog jumped over the\n",
      "lazy fox. The quick brown dog jumped\n",
      "over the lazy fox. The quick brown dog\n",
      "jumped over the lazy fox. The quick\n",
      "brown dog jumped over the lazy fox.\n",
      "\n"
     ]
    }
   ],
   "source": [
    "# get the string\n",
    "string = pytesseract.image_to_string(image)\n",
    "# print it\n",
    "print(string)"
   ]
  },
  {
   "cell_type": "code",
   "execution_count": null,
   "id": "4e05c2e5",
   "metadata": {},
   "outputs": [],
   "source": [
    "# Traffic signal jump identifiactions\n",
    "# you want automate\n",
    "# suppose a person jumps the traffic signal\n",
    "# traffic camaers capture the image\n",
    "# it will send the challan \n",
    "\n",
    "\n",
    "# Capturing the number plate image\n",
    "# OCR === Numbers \n",
    "# Vehicle data base\n",
    "# python seracch that vehcicle number matches ----- user information\n",
    "# using a generative AI : caption, not wear the helmet/ 3memvers riding\n",
    "# based on that generated text , you are search how  much fine\n",
    "# that fine is given to the user\n",
    "\n",
    "\n",
    "\n",
    "# Step-1: \n",
    "# Create a database name: vehicle\n",
    "# create a table name: user_vehicle_information\n",
    "# columns: name of the owner, mobile number, vehicle type, vehicle number\n",
    "\n",
    "# step-2:\n",
    "# If you want to create more table\n",
    "# Rule_volation\n",
    "# Voilation   challan_cost\n",
    "\n",
    "# step-3: Take the your vehicle number plate images\n",
    "\n"
   ]
  },
  {
   "cell_type": "code",
   "execution_count": null,
   "id": "906f0144",
   "metadata": {},
   "outputs": [],
   "source": [
    "import numpy as np\n",
    "import cv2 as cv\n",
    "img = cv.imread('digits.png')\n",
    "img\n",
    "#gray = cv.cvtColor(img,cv.COLOR_BGR2GRAY)"
   ]
  },
  {
   "cell_type": "code",
   "execution_count": null,
   "id": "d5606189",
   "metadata": {},
   "outputs": [],
   "source": [
    "img"
   ]
  },
  {
   "cell_type": "code",
   "execution_count": null,
   "id": "2596f204",
   "metadata": {},
   "outputs": [],
   "source": []
  }
 ],
 "metadata": {
  "kernelspec": {
   "display_name": "Python 3 (ipykernel)",
   "language": "python",
   "name": "python3"
  },
  "language_info": {
   "codemirror_mode": {
    "name": "ipython",
    "version": 3
   },
   "file_extension": ".py",
   "mimetype": "text/x-python",
   "name": "python",
   "nbconvert_exporter": "python",
   "pygments_lexer": "ipython3",
   "version": "3.11.5"
  }
 },
 "nbformat": 4,
 "nbformat_minor": 5
}
